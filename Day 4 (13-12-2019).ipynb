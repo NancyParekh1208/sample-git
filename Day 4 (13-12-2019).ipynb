{
 "cells": [
  {
   "cell_type": "markdown",
   "metadata": {},
   "source": [
    "# Jupyter markdown\n",
    "## Jupytor markdown\n",
    "### Jupyter markdown\n",
    "#### Jupytor markdown"
   ]
  },
  {
   "cell_type": "code",
   "execution_count": 2,
   "metadata": {},
   "outputs": [
    {
     "name": "stdout",
     "output_type": "stream",
     "text": [
      "Nancyyy jkk\n"
     ]
    }
   ],
   "source": [
    "print(\"Nancyyy jkk\")"
   ]
  },
  {
   "cell_type": "markdown",
   "metadata": {},
   "source": [
    "- point 1\n",
    "- point 2\n",
    "- point 3"
   ]
  },
  {
   "cell_type": "markdown",
   "metadata": {},
   "source": [
    "- point 1\n",
    "    - subpoint 1"
   ]
  },
  {
   "cell_type": "markdown",
   "metadata": {},
   "source": [
    "***nancy***\n"
   ]
  },
  {
   "cell_type": "markdown",
   "metadata": {},
   "source": [
    "### Python Programming introduction\n",
    "- Python 3\n",
    "- Python can be used as functional programming and also a scripting language.\n",
    "- Python initially designed by **Guido Van Rossum** in 1991"
   ]
  },
  {
   "cell_type": "code",
   "execution_count": 4,
   "metadata": {},
   "outputs": [],
   "source": [
    "#this is code\n"
   ]
  },
  {
   "cell_type": "code",
   "execution_count": 7,
   "metadata": {},
   "outputs": [
    {
     "name": "stdout",
     "output_type": "stream",
     "text": [
      "hello world welcome to python programming\n"
     ]
    }
   ],
   "source": [
    "# this is input and output function\n",
    "# output Function\n",
    "print(\"hello world\",end=' ')\n",
    "print(\"welcome to python programming\")\n"
   ]
  },
  {
   "cell_type": "code",
   "execution_count": 8,
   "metadata": {},
   "outputs": [
    {
     "name": "stdout",
     "output_type": "stream",
     "text": [
      "enter your name:\n",
      " nancy\n",
      "Your name is nancy\n"
     ]
    }
   ],
   "source": [
    "# input function\n",
    "print(\"enter your name:\")\n",
    "name=input(' ')\n",
    "print('Your name is',name)\n"
   ]
  },
  {
   "cell_type": "code",
   "execution_count": 16,
   "metadata": {},
   "outputs": [
    {
     "name": "stdout",
     "output_type": "stream",
     "text": [
      "enter the numbers\n",
      "2\n",
      "3\n",
      "23\n"
     ]
    }
   ],
   "source": [
    "def add():\n",
    "    print(\"enter the numbers\")\n",
    "    a=input()\n",
    "    b=input()\n",
    "    c=a+b\n",
    "    print(c)\n",
    "add()\n"
   ]
  },
  {
   "cell_type": "markdown",
   "metadata": {},
   "source": [
    "### Operators\n",
    "1. Arithmetic operators +,-,*,/,//,%,**\n",
    "2. Logical operators ---> and,or,not\n",
    "3. Relational operators---><,>,<=,>=,==,!=\n",
    "4. Membership---> in,not in\n"
   ]
  },
  {
   "cell_type": "code",
   "execution_count": 17,
   "metadata": {},
   "outputs": [
    {
     "name": "stdout",
     "output_type": "stream",
     "text": [
      "30\n",
      "10\n",
      "200\n",
      "2.0\n",
      "2\n",
      "0\n",
      "10240000000000\n"
     ]
    }
   ],
   "source": [
    "a=20\n",
    "b=10\n",
    "print(a+b)\n",
    "print(a-b)\n",
    "print(a*b)\n",
    "print(a/b)\n",
    "print(a//b)\n",
    "print(a%b)\n",
    "print(a**b)\n"
   ]
  },
  {
   "cell_type": "code",
   "execution_count": null,
   "metadata": {},
   "outputs": [],
   "source": [
    "# logical operators"
   ]
  }
 ],
 "metadata": {
  "kernelspec": {
   "display_name": "Python 3",
   "language": "python",
   "name": "python3"
  },
  "language_info": {
   "codemirror_mode": {
    "name": "ipython",
    "version": 3
   },
   "file_extension": ".py",
   "mimetype": "text/x-python",
   "name": "python",
   "nbconvert_exporter": "python",
   "pygments_lexer": "ipython3",
   "version": "3.7.4"
  }
 },
 "nbformat": 4,
 "nbformat_minor": 2
}
